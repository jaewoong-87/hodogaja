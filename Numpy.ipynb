{
  "nbformat": 4,
  "nbformat_minor": 0,
  "metadata": {
    "colab": {
      "name": "Numpy.ipynb",
      "provenance": [],
      "collapsed_sections": [],
      "authorship_tag": "ABX9TyO19RlyCQgIOwfLufJToVK5",
      "include_colab_link": true
    },
    "kernelspec": {
      "name": "python3",
      "display_name": "Python 3"
    }
  },
  "cells": [
    {
      "cell_type": "markdown",
      "metadata": {
        "id": "view-in-github",
        "colab_type": "text"
      },
      "source": [
        "<a href=\"https://colab.research.google.com/github/jaewoong-87/python/blob/master/Numpy.ipynb\" target=\"_parent\"><img src=\"https://colab.research.google.com/assets/colab-badge.svg\" alt=\"Open In Colab\"/></a>"
      ]
    },
    {
      "cell_type": "markdown",
      "metadata": {
        "id": "MGZ3l1zsYa1E"
      },
      "source": [
        "numerical python   N-dimentional "
      ]
    },
    {
      "cell_type": "code",
      "metadata": {
        "colab": {
          "base_uri": "https://localhost:8080/",
          "height": 36
        },
        "id": "dJhc_b_uWJd1",
        "outputId": "90fbf3b4-bde9-47d4-ca12-cf43adca9148"
      },
      "source": [
        "import numpy as np\r\n",
        "\r\n",
        "np.__version__"
      ],
      "execution_count": 1,
      "outputs": [
        {
          "output_type": "execute_result",
          "data": {
            "application/vnd.google.colaboratory.intrinsic+json": {
              "type": "string"
            },
            "text/plain": [
              "'1.19.5'"
            ]
          },
          "metadata": {
            "tags": []
          },
          "execution_count": 1
        }
      ]
    },
    {
      "cell_type": "code",
      "metadata": {
        "colab": {
          "base_uri": "https://localhost:8080/"
        },
        "id": "7sgj9ChQYY7t",
        "outputId": "91738e38-dfa9-4a14-e1a1-5d40e36b6390"
      },
      "source": [
        "a1 = np.array([1,2,3,4,5])\r\n",
        "print(a1)\r\n",
        "print(type(a1))\r\n",
        "print(a1.shape)"
      ],
      "execution_count": 5,
      "outputs": [
        {
          "output_type": "stream",
          "text": [
            "[1 2 3 4 5]\n",
            "<class 'numpy.ndarray'>\n",
            "(5,)\n"
          ],
          "name": "stdout"
        }
      ]
    },
    {
      "cell_type": "code",
      "metadata": {
        "colab": {
          "base_uri": "https://localhost:8080/"
        },
        "id": "14VQf8qjYzeY",
        "outputId": "0294e0cb-7415-4945-af71-66c6cd1109bd"
      },
      "source": [
        "a2=np.array([ [1, 2, 3], [4, 5, 6], [7,8,9]])\r\n",
        "print(a2)\r\n",
        "print(a2.shape)"
      ],
      "execution_count": 10,
      "outputs": [
        {
          "output_type": "stream",
          "text": [
            "[[1 2 3]\n",
            " [4 5 6]\n",
            " [7 8 9]]\n",
            "(3, 3)\n"
          ],
          "name": "stdout"
        }
      ]
    },
    {
      "cell_type": "markdown",
      "metadata": {
        "id": "w8qEhzfJZowf"
      },
      "source": [
        "zero.shape"
      ]
    },
    {
      "cell_type": "code",
      "metadata": {
        "colab": {
          "base_uri": "https://localhost:8080/"
        },
        "id": "LjHUPuM-Yzlq",
        "outputId": "40bcda8d-1789-4acd-8f66-5f005da3a2e4"
      },
      "source": [
        "np.zeros(10)"
      ],
      "execution_count": 11,
      "outputs": [
        {
          "output_type": "execute_result",
          "data": {
            "text/plain": [
              "array([0., 0., 0., 0., 0., 0., 0., 0., 0., 0.])"
            ]
          },
          "metadata": {
            "tags": []
          },
          "execution_count": 11
        }
      ]
    },
    {
      "cell_type": "code",
      "metadata": {
        "colab": {
          "base_uri": "https://localhost:8080/"
        },
        "id": "yRo9afzRZvKB",
        "outputId": "c681992f-ca06-4b29-dd95-8d4611a3840b"
      },
      "source": [
        "np.ones((3,3))"
      ],
      "execution_count": 12,
      "outputs": [
        {
          "output_type": "execute_result",
          "data": {
            "text/plain": [
              "array([[1., 1., 1.],\n",
              "       [1., 1., 1.],\n",
              "       [1., 1., 1.]])"
            ]
          },
          "metadata": {
            "tags": []
          },
          "execution_count": 12
        }
      ]
    },
    {
      "cell_type": "code",
      "metadata": {
        "colab": {
          "base_uri": "https://localhost:8080/"
        },
        "id": "F_bHlWweZzZB",
        "outputId": "1b5c2d2c-87fe-40d7-926a-16472256d503"
      },
      "source": [
        "np.full((3,3),5)"
      ],
      "execution_count": 13,
      "outputs": [
        {
          "output_type": "execute_result",
          "data": {
            "text/plain": [
              "array([[5, 5, 5],\n",
              "       [5, 5, 5],\n",
              "       [5, 5, 5]])"
            ]
          },
          "metadata": {
            "tags": []
          },
          "execution_count": 13
        }
      ]
    },
    {
      "cell_type": "code",
      "metadata": {
        "colab": {
          "base_uri": "https://localhost:8080/"
        },
        "id": "KnX-kzIbZzkQ",
        "outputId": "86fdca4d-5be8-48de-e5bc-32ff3d988f03"
      },
      "source": [
        "np.eye(5,5)"
      ],
      "execution_count": 14,
      "outputs": [
        {
          "output_type": "execute_result",
          "data": {
            "text/plain": [
              "array([[1., 0., 0., 0., 0.],\n",
              "       [0., 1., 0., 0., 0.],\n",
              "       [0., 0., 1., 0., 0.],\n",
              "       [0., 0., 0., 1., 0.],\n",
              "       [0., 0., 0., 0., 1.]])"
            ]
          },
          "metadata": {
            "tags": []
          },
          "execution_count": 14
        }
      ]
    },
    {
      "cell_type": "code",
      "metadata": {
        "colab": {
          "base_uri": "https://localhost:8080/"
        },
        "id": "WFuID-e4Zzot",
        "outputId": "0df7bf53-8356-495e-c07a-e02fed015e8e"
      },
      "source": [
        "np.empty(10)"
      ],
      "execution_count": 15,
      "outputs": [
        {
          "output_type": "execute_result",
          "data": {
            "text/plain": [
              "array([0., 0., 0., 0., 0., 0., 0., 0., 0., 0.])"
            ]
          },
          "metadata": {
            "tags": []
          },
          "execution_count": 15
        }
      ]
    },
    {
      "cell_type": "code",
      "metadata": {
        "colab": {
          "base_uri": "https://localhost:8080/"
        },
        "id": "ZRiYjgU6Zzum",
        "outputId": "7eee6797-0183-4c98-fb0e-da4f7be2d0a0"
      },
      "source": [
        "np.arange(0,30,2)"
      ],
      "execution_count": 17,
      "outputs": [
        {
          "output_type": "execute_result",
          "data": {
            "text/plain": [
              "array([ 0,  2,  4,  6,  8, 10, 12, 14, 16, 18, 20, 22, 24, 26, 28])"
            ]
          },
          "metadata": {
            "tags": []
          },
          "execution_count": 17
        }
      ]
    },
    {
      "cell_type": "code",
      "metadata": {
        "colab": {
          "base_uri": "https://localhost:8080/"
        },
        "id": "mOL7oafPaJET",
        "outputId": "d2c0e9dd-eb83-499d-a21b-ba88b886eb81"
      },
      "source": [
        "np.linspace(0, 1, 5)"
      ],
      "execution_count": 18,
      "outputs": [
        {
          "output_type": "execute_result",
          "data": {
            "text/plain": [
              "array([0.  , 0.25, 0.5 , 0.75, 1.  ])"
            ]
          },
          "metadata": {
            "tags": []
          },
          "execution_count": 18
        }
      ]
    },
    {
      "cell_type": "code",
      "metadata": {
        "colab": {
          "base_uri": "https://localhost:8080/"
        },
        "id": "spOgCBfIaJKH",
        "outputId": "0d112e23-2cb9-437b-cf44-b89929833341"
      },
      "source": [
        "np.logspace(2,4,5)"
      ],
      "execution_count": 19,
      "outputs": [
        {
          "output_type": "execute_result",
          "data": {
            "text/plain": [
              "array([  100.        ,   316.22776602,  1000.        ,  3162.27766017,\n",
              "       10000.        ])"
            ]
          },
          "metadata": {
            "tags": []
          },
          "execution_count": 19
        }
      ]
    },
    {
      "cell_type": "markdown",
      "metadata": {
        "id": "EKZ0HWNJagz2"
      },
      "source": [
        "random value"
      ]
    },
    {
      "cell_type": "code",
      "metadata": {
        "colab": {
          "base_uri": "https://localhost:8080/"
        },
        "id": "vm-pBljHaIPh",
        "outputId": "c5362d1d-e0f4-4488-9bd0-0c77fc2e9c7a"
      },
      "source": [
        "np.random.random((3,3))"
      ],
      "execution_count": 20,
      "outputs": [
        {
          "output_type": "execute_result",
          "data": {
            "text/plain": [
              "array([[0.32142125, 0.97615013, 0.74756168],\n",
              "       [0.50877838, 0.04053941, 0.57109957],\n",
              "       [0.94878326, 0.64128847, 0.88921835]])"
            ]
          },
          "metadata": {
            "tags": []
          },
          "execution_count": 20
        }
      ]
    },
    {
      "cell_type": "code",
      "metadata": {
        "colab": {
          "base_uri": "https://localhost:8080/"
        },
        "id": "1UgQx3rGacAb",
        "outputId": "da0cdf82-f618-4bbe-fc05-b7db6aa31010"
      },
      "source": [
        "np.random.randint(0,10, (3,3))"
      ],
      "execution_count": 23,
      "outputs": [
        {
          "output_type": "execute_result",
          "data": {
            "text/plain": [
              "array([[4, 7, 3],\n",
              "       [1, 3, 6],\n",
              "       [0, 4, 4]])"
            ]
          },
          "metadata": {
            "tags": []
          },
          "execution_count": 23
        }
      ]
    },
    {
      "cell_type": "code",
      "metadata": {
        "colab": {
          "base_uri": "https://localhost:8080/"
        },
        "id": "4KS3576DacJl",
        "outputId": "532f22a3-006f-4c7b-ac92-ce4fe6a951fc"
      },
      "source": [
        "np.zeros(20, dtype=int)"
      ],
      "execution_count": 24,
      "outputs": [
        {
          "output_type": "execute_result",
          "data": {
            "text/plain": [
              "array([0, 0, 0, 0, 0, 0, 0, 0, 0, 0, 0, 0, 0, 0, 0, 0, 0, 0, 0, 0])"
            ]
          },
          "metadata": {
            "tags": []
          },
          "execution_count": 24
        }
      ]
    },
    {
      "cell_type": "code",
      "metadata": {
        "colab": {
          "base_uri": "https://localhost:8080/"
        },
        "id": "bORkYst7aIXA",
        "outputId": "583eb2aa-facc-4330-8f9c-f42d9fc8834d"
      },
      "source": [
        "a1=np.random.randint(1,9,(3,3))\r\n",
        "print(a1)\r\n",
        "print(a1[0:2])"
      ],
      "execution_count": 31,
      "outputs": [
        {
          "output_type": "stream",
          "text": [
            "[[5 7 2]\n",
            " [4 2 3]\n",
            " [3 2 8]]\n",
            "[[5 7 2]\n",
            " [4 2 3]]\n"
          ],
          "name": "stdout"
        }
      ]
    },
    {
      "cell_type": "code",
      "metadata": {
        "colab": {
          "base_uri": "https://localhost:8080/"
        },
        "id": "yr_saYKmcl8k",
        "outputId": "406eaa2f-f2c0-4d1d-a627-c0a75896dcbf"
      },
      "source": [
        "b1 =np.insert(a1,0,10)\r\n",
        "print(b1)"
      ],
      "execution_count": 32,
      "outputs": [
        {
          "output_type": "stream",
          "text": [
            "[10  5  7  2  4  2  3  3  2  8]\n"
          ],
          "name": "stdout"
        }
      ]
    },
    {
      "cell_type": "code",
      "metadata": {
        "colab": {
          "base_uri": "https://localhost:8080/"
        },
        "id": "_1CQOPHQaIgm",
        "outputId": "4b434e74-5913-4547-c84f-0c833f5c8c92"
      },
      "source": [
        "b2 = np.insert(a1, 1, 10, axis=0)\r\n",
        "print(b2)\r\n",
        "c2 = np.insert(a1, 1, 10, axis=1)\r\n",
        "print(c2)"
      ],
      "execution_count": 35,
      "outputs": [
        {
          "output_type": "stream",
          "text": [
            "[[ 5  7  2]\n",
            " [10 10 10]\n",
            " [ 4  2  3]\n",
            " [ 3  2  8]]\n",
            "[[ 5 10  7  2]\n",
            " [ 4 10  2  3]\n",
            " [ 3 10  2  8]]\n"
          ],
          "name": "stdout"
        }
      ]
    },
    {
      "cell_type": "code",
      "metadata": {
        "colab": {
          "base_uri": "https://localhost:8080/"
        },
        "id": "z5zTXCo7dCFm",
        "outputId": "eb864666-1ad2-4cc9-9262-b6145927718d"
      },
      "source": [
        "print(a1)\r\n",
        "a1[0]=1\r\n",
        "a1[1]=5\r\n",
        "print(a1)"
      ],
      "execution_count": 36,
      "outputs": [
        {
          "output_type": "stream",
          "text": [
            "[[5 7 2]\n",
            " [4 2 3]\n",
            " [3 2 8]]\n",
            "[[1 1 1]\n",
            " [5 5 5]\n",
            " [3 2 8]]\n"
          ],
          "name": "stdout"
        }
      ]
    },
    {
      "cell_type": "markdown",
      "metadata": {
        "id": "lANNs812dRg3"
      },
      "source": [
        "delete"
      ]
    },
    {
      "cell_type": "code",
      "metadata": {
        "colab": {
          "base_uri": "https://localhost:8080/"
        },
        "id": "gpoApHdkdCch",
        "outputId": "144f06f3-9916-49e6-a7da-d5b44bb355f8"
      },
      "source": [
        "print(a1)\r\n",
        "a2=np.delete(a1,2)\r\n",
        "print(a2)"
      ],
      "execution_count": 38,
      "outputs": [
        {
          "output_type": "stream",
          "text": [
            "[[1 1 1]\n",
            " [5 5 5]\n",
            " [3 2 8]]\n",
            "[1 1 5 5 5 3 2 8]\n"
          ],
          "name": "stdout"
        }
      ]
    },
    {
      "cell_type": "code",
      "metadata": {
        "colab": {
          "base_uri": "https://localhost:8080/"
        },
        "id": "j_1oOS6_dCk2",
        "outputId": "8ea5b573-3db2-4652-b156-f0b547d60b13"
      },
      "source": [
        "print(a2)\r\n",
        "b2=np.delete(a2,1, axis=0)\r\n",
        "print(b2)"
      ],
      "execution_count": 39,
      "outputs": [
        {
          "output_type": "stream",
          "text": [
            "[1 1 5 5 5 3 2 8]\n",
            "[1 5 5 5 3 2 8]\n"
          ],
          "name": "stdout"
        }
      ]
    },
    {
      "cell_type": "markdown",
      "metadata": {
        "id": "-3azM6v1do-4"
      },
      "source": [
        "copy() -- if not use copy, they use same memory so that original could be changed when the other are modulated."
      ]
    },
    {
      "cell_type": "code",
      "metadata": {
        "colab": {
          "base_uri": "https://localhost:8080/"
        },
        "id": "Y2UUYr8Fd0bv",
        "outputId": "182447dc-536c-4d6c-d315-31bb53937cf0"
      },
      "source": [
        "print(a1)\r\n",
        "print(a1[:2])\r\n",
        "a2_sub = a2[:2]\r\n",
        "print(a2_sub)"
      ],
      "execution_count": 44,
      "outputs": [
        {
          "output_type": "stream",
          "text": [
            "[[1 1 1]\n",
            " [5 5 5]\n",
            " [3 2 8]]\n",
            "[[1 1 1]\n",
            " [5 5 5]]\n",
            "[1 1]\n"
          ],
          "name": "stdout"
        }
      ]
    },
    {
      "cell_type": "code",
      "metadata": {
        "colab": {
          "base_uri": "https://localhost:8080/"
        },
        "id": "hU-VIcpUd1EY",
        "outputId": "748803e4-2bb1-46a7-d816-755a30755060"
      },
      "source": [
        "print(a2)\r\n",
        "a2_sub_copy=a2[:2].copy()\r\n",
        "print(a2_sub_copy)"
      ],
      "execution_count": 45,
      "outputs": [
        {
          "output_type": "stream",
          "text": [
            "[1 1 5 5 5 3 2 8]\n",
            "[1 1]\n"
          ],
          "name": "stdout"
        }
      ]
    },
    {
      "cell_type": "markdown",
      "metadata": {
        "id": "-CdrFsKNe3OU"
      },
      "source": [
        "Transpose"
      ]
    },
    {
      "cell_type": "code",
      "metadata": {
        "colab": {
          "base_uri": "https://localhost:8080/"
        },
        "id": "aYTpr_tXd0mo",
        "outputId": "9eaebf3b-3a45-4b60-c728-5a355d689c4c"
      },
      "source": [
        "print(a1)\r\n",
        "print(a1.T)"
      ],
      "execution_count": 47,
      "outputs": [
        {
          "output_type": "stream",
          "text": [
            "[[1 1 1]\n",
            " [5 5 5]\n",
            " [3 2 8]]\n",
            "[[1 5 3]\n",
            " [1 5 2]\n",
            " [1 5 8]]\n"
          ],
          "name": "stdout"
        }
      ]
    },
    {
      "cell_type": "markdown",
      "metadata": {
        "id": "TwQiWpz3fAb8"
      },
      "source": [
        "reshape"
      ]
    },
    {
      "cell_type": "code",
      "metadata": {
        "colab": {
          "base_uri": "https://localhost:8080/"
        },
        "id": "SKUd_AsWeu5J",
        "outputId": "f8291255-0c9a-455f-8470-4233ea9157ee"
      },
      "source": [
        "n1=np.arange(1,10)\r\n",
        "print(n1)\r\n",
        "print(n1.reshape(3,3))"
      ],
      "execution_count": 49,
      "outputs": [
        {
          "output_type": "stream",
          "text": [
            "[1 2 3 4 5 6 7 8 9]\n",
            "[[1 2 3]\n",
            " [4 5 6]\n",
            " [7 8 9]]\n"
          ],
          "name": "stdout"
        }
      ]
    },
    {
      "cell_type": "code",
      "metadata": {
        "colab": {
          "base_uri": "https://localhost:8080/"
        },
        "id": "BoxftvYeevCB",
        "outputId": "d07d6ab7-89c2-4763-af60-e4325599b327"
      },
      "source": [
        "print(n1)\r\n",
        "print(n1[np.newaxis,:5])\r\n",
        "print(n1[:5,np.newaxis])"
      ],
      "execution_count": 52,
      "outputs": [
        {
          "output_type": "stream",
          "text": [
            "[1 2 3 4 5 6 7 8 9]\n",
            "[[1 2 3 4 5]]\n",
            "[[1]\n",
            " [2]\n",
            " [3]\n",
            " [4]\n",
            " [5]]\n"
          ],
          "name": "stdout"
        }
      ]
    },
    {
      "cell_type": "code",
      "metadata": {
        "colab": {
          "base_uri": "https://localhost:8080/"
        },
        "id": "y8xNpznGevJf",
        "outputId": "9016b29b-6790-4459-d81e-c41e5dd96e50"
      },
      "source": [
        "n2 = np.random.randint(0,10, (2,5))\r\n",
        "print(n2)\r\n",
        "n2.resize((5,2))\r\n",
        "print(n2)"
      ],
      "execution_count": 54,
      "outputs": [
        {
          "output_type": "stream",
          "text": [
            "[[8 6 5 0 3]\n",
            " [0 1 2 2 4]]\n",
            "[[8 6]\n",
            " [5 0]\n",
            " [3 0]\n",
            " [1 2]\n",
            " [2 4]]\n"
          ],
          "name": "stdout"
        }
      ]
    },
    {
      "cell_type": "markdown",
      "metadata": {
        "id": "Qcnl_jCzfwOf"
      },
      "source": [
        "resize - remain area are filled with zero"
      ]
    },
    {
      "cell_type": "code",
      "metadata": {
        "colab": {
          "base_uri": "https://localhost:8080/"
        },
        "id": "hTDPob-Qfe7p",
        "outputId": "9cafe3ee-b86a-49df-baba-1ae67c8fbdb6"
      },
      "source": [
        "n2.resize((5,5))\r\n",
        "print(n2)"
      ],
      "execution_count": 55,
      "outputs": [
        {
          "output_type": "stream",
          "text": [
            "[[8 6 5 0 3]\n",
            " [0 1 2 2 4]\n",
            " [0 0 0 0 0]\n",
            " [0 0 0 0 0]\n",
            " [0 0 0 0 0]]\n"
          ],
          "name": "stdout"
        }
      ]
    },
    {
      "cell_type": "code",
      "metadata": {
        "colab": {
          "base_uri": "https://localhost:8080/"
        },
        "id": "aAQVbB1VffDj",
        "outputId": "942fb6a0-86ac-44f1-964b-2a1627054e1e"
      },
      "source": [
        "a2 = np.arange(1,10).reshape(3,3)\r\n",
        "print(a2)\r\n",
        "b2 = np.arange(1,10).reshape(3,3)\r\n",
        "print(b2)"
      ],
      "execution_count": 56,
      "outputs": [
        {
          "output_type": "stream",
          "text": [
            "[[1 2 3]\n",
            " [4 5 6]\n",
            " [7 8 9]]\n",
            "[[1 2 3]\n",
            " [4 5 6]\n",
            " [7 8 9]]\n"
          ],
          "name": "stdout"
        }
      ]
    },
    {
      "cell_type": "code",
      "metadata": {
        "colab": {
          "base_uri": "https://localhost:8080/"
        },
        "id": "KYTFfH0xffKW",
        "outputId": "2d1430b9-d9bf-4512-c229-b3962631b72c"
      },
      "source": [
        "c2 = np.append(a2, b2, axis=0)\r\n",
        "print(c2)\r\n",
        "\r\n"
      ],
      "execution_count": 58,
      "outputs": [
        {
          "output_type": "stream",
          "text": [
            "[[1 2 3]\n",
            " [4 5 6]\n",
            " [7 8 9]\n",
            " [1 2 3]\n",
            " [4 5 6]\n",
            " [7 8 9]]\n"
          ],
          "name": "stdout"
        }
      ]
    },
    {
      "cell_type": "markdown",
      "metadata": {
        "id": "nOSXaUDJgWYZ"
      },
      "source": [
        "concatenate()"
      ]
    },
    {
      "cell_type": "code",
      "metadata": {
        "colab": {
          "base_uri": "https://localhost:8080/"
        },
        "id": "zudt_IRWgS_I",
        "outputId": "77bafa25-0809-4978-fbbd-16127b69f5a2"
      },
      "source": [
        "np.concatenate([a2,b2])"
      ],
      "execution_count": 60,
      "outputs": [
        {
          "output_type": "execute_result",
          "data": {
            "text/plain": [
              "array([[1, 2, 3],\n",
              "       [4, 5, 6],\n",
              "       [7, 8, 9],\n",
              "       [1, 2, 3],\n",
              "       [4, 5, 6],\n",
              "       [7, 8, 9]])"
            ]
          },
          "metadata": {
            "tags": []
          },
          "execution_count": 60
        }
      ]
    },
    {
      "cell_type": "markdown",
      "metadata": {
        "id": "BapoMWGwglL9"
      },
      "source": [
        "np.vstack(), np.hstack(), np.dstack(), stack()"
      ]
    },
    {
      "cell_type": "code",
      "metadata": {
        "colab": {
          "base_uri": "https://localhost:8080/"
        },
        "id": "3ZEyy3ZagTIV",
        "outputId": "dfc87920-f68c-4ec4-871d-51a81064521d"
      },
      "source": [
        "np.hstack([a2,b2])"
      ],
      "execution_count": 61,
      "outputs": [
        {
          "output_type": "execute_result",
          "data": {
            "text/plain": [
              "array([[1, 2, 3, 1, 2, 3],\n",
              "       [4, 5, 6, 4, 5, 6],\n",
              "       [7, 8, 9, 7, 8, 9]])"
            ]
          },
          "metadata": {
            "tags": []
          },
          "execution_count": 61
        }
      ]
    },
    {
      "cell_type": "code",
      "metadata": {
        "colab": {
          "base_uri": "https://localhost:8080/"
        },
        "id": "IrlNwmhHgTQc",
        "outputId": "c9bcaa7b-fece-4832-b80c-61b15db111b8"
      },
      "source": [
        "np.vstack([a2,b2])"
      ],
      "execution_count": 62,
      "outputs": [
        {
          "output_type": "execute_result",
          "data": {
            "text/plain": [
              "array([[1, 2, 3],\n",
              "       [4, 5, 6],\n",
              "       [7, 8, 9],\n",
              "       [1, 2, 3],\n",
              "       [4, 5, 6],\n",
              "       [7, 8, 9]])"
            ]
          },
          "metadata": {
            "tags": []
          },
          "execution_count": 62
        }
      ]
    },
    {
      "cell_type": "code",
      "metadata": {
        "colab": {
          "base_uri": "https://localhost:8080/"
        },
        "id": "Hw4gN_dqgzG8",
        "outputId": "16a674c0-e1e0-4d8e-da3d-e15b48d1488d"
      },
      "source": [
        "np.stack([a2,b2])"
      ],
      "execution_count": 63,
      "outputs": [
        {
          "output_type": "execute_result",
          "data": {
            "text/plain": [
              "array([[[1, 2, 3],\n",
              "        [4, 5, 6],\n",
              "        [7, 8, 9]],\n",
              "\n",
              "       [[1, 2, 3],\n",
              "        [4, 5, 6],\n",
              "        [7, 8, 9]]])"
            ]
          },
          "metadata": {
            "tags": []
          },
          "execution_count": 63
        }
      ]
    },
    {
      "cell_type": "markdown",
      "metadata": {
        "id": "cX592kLqg2Zs"
      },
      "source": [
        "split(), vsplit(), hsplit(), dsplit()"
      ]
    },
    {
      "cell_type": "code",
      "metadata": {
        "colab": {
          "base_uri": "https://localhost:8080/"
        },
        "id": "CIyoUziWgzQ1",
        "outputId": "9e012221-2956-4bde-b1c5-78b043123ce9"
      },
      "source": [
        "b1, c1=np.split(a1, [5])\r\n",
        "print(b1,c1)"
      ],
      "execution_count": 65,
      "outputs": [
        {
          "output_type": "stream",
          "text": [
            "[[1 1 1]\n",
            " [5 5 5]\n",
            " [3 2 8]] []\n"
          ],
          "name": "stdout"
        }
      ]
    },
    {
      "cell_type": "code",
      "metadata": {
        "colab": {
          "base_uri": "https://localhost:8080/"
        },
        "id": "1cCD94CGgzZD",
        "outputId": "860e19b6-bf0d-431c-8f29-eab893e91add"
      },
      "source": [
        "b1, c1=np.vsplit(a1, [5])\r\n",
        "print(b1,c1)"
      ],
      "execution_count": 67,
      "outputs": [
        {
          "output_type": "stream",
          "text": [
            "[[1 1 1]\n",
            " [5 5 5]\n",
            " [3 2 8]] []\n"
          ],
          "name": "stdout"
        }
      ]
    },
    {
      "cell_type": "markdown",
      "metadata": {
        "id": "f74phm1MhPWE"
      },
      "source": [
        "numpy calculation    broad casting"
      ]
    },
    {
      "cell_type": "code",
      "metadata": {
        "colab": {
          "base_uri": "https://localhost:8080/"
        },
        "id": "qx1RSDBthMyx",
        "outputId": "ce30c306-8d97-4cd0-88b2-5893cf5b420f"
      },
      "source": [
        "a1 = np.array([1,2,3])\r\n",
        "print(a1)\r\n",
        "print(a1+5)"
      ],
      "execution_count": 68,
      "outputs": [
        {
          "output_type": "stream",
          "text": [
            "[1 2 3]\n",
            "[6 7 8]\n"
          ],
          "name": "stdout"
        }
      ]
    },
    {
      "cell_type": "code",
      "metadata": {
        "colab": {
          "base_uri": "https://localhost:8080/"
        },
        "id": "ImwbObshhTIK",
        "outputId": "1ab97602-2cf4-468c-a00f-76e0febddc55"
      },
      "source": [
        "a2 = np.array([3,5,6])\r\n",
        "print(a1+a2)\r\n",
        "print(a1-a2)\r\n",
        "print(a1*a2)"
      ],
      "execution_count": 69,
      "outputs": [
        {
          "output_type": "stream",
          "text": [
            "[4 7 9]\n",
            "[-2 -3 -3]\n",
            "[ 3 10 18]\n"
          ],
          "name": "stdout"
        }
      ]
    },
    {
      "cell_type": "markdown",
      "metadata": {
        "id": "b8VLYiXih0-V"
      },
      "source": [
        "arithmetic operators"
      ]
    },
    {
      "cell_type": "code",
      "metadata": {
        "colab": {
          "base_uri": "https://localhost:8080/"
        },
        "id": "lJH04cljhTPP",
        "outputId": "2a6b2e36-e3b7-4076-f4a9-d57a19625306"
      },
      "source": [
        "print(np.add(a1,10))\r\n",
        "print(np.subtract(a1,6))\r\n",
        "print(np.multiply(a1,2))\r\n",
        "print(np.divide(a1,5))"
      ],
      "execution_count": 73,
      "outputs": [
        {
          "output_type": "stream",
          "text": [
            "[11 12 13]\n",
            "[-5 -4 -3]\n",
            "[2 4 6]\n",
            "[0.2 0.4 0.6]\n"
          ],
          "name": "stdout"
        }
      ]
    },
    {
      "cell_type": "markdown",
      "metadata": {
        "id": "UUIdtY1IiS4N"
      },
      "source": [
        "exponential and log fuction"
      ]
    },
    {
      "cell_type": "code",
      "metadata": {
        "colab": {
          "base_uri": "https://localhost:8080/"
        },
        "id": "kAGQ4LmMhTVm",
        "outputId": "7aed2f70-0686-42ba-e81d-68e88f82e6ea"
      },
      "source": [
        "a1 = np.random.randint(1,10, size=5)\r\n",
        "print(a1)\r\n",
        "print(np.exp(a1))\r\n",
        "print(np.exp2(a1))\r\n",
        "print(np.power(a1,2))"
      ],
      "execution_count": 74,
      "outputs": [
        {
          "output_type": "stream",
          "text": [
            "[9 3 5 1 2]\n",
            "[8.10308393e+03 2.00855369e+01 1.48413159e+02 2.71828183e+00\n",
            " 7.38905610e+00]\n",
            "[512.   8.  32.   2.   4.]\n",
            "[81  9 25  1  4]\n"
          ],
          "name": "stdout"
        }
      ]
    },
    {
      "cell_type": "code",
      "metadata": {
        "colab": {
          "base_uri": "https://localhost:8080/"
        },
        "id": "zgMWxZkKhTbm",
        "outputId": "0ca2475e-d209-42bb-9abd-64ecfeb8d056"
      },
      "source": [
        "print(np.sin(a1))\r\n",
        "print(np.cos(a1))\r\n",
        "print(np.tan(a1))"
      ],
      "execution_count": 76,
      "outputs": [
        {
          "output_type": "stream",
          "text": [
            "[ 0.41211849  0.14112001 -0.95892427  0.84147098  0.90929743]\n",
            "[-0.91113026 -0.9899925   0.28366219  0.54030231 -0.41614684]\n",
            "[-0.45231566 -0.14254654 -3.38051501  1.55740772 -2.18503986]\n"
          ],
          "name": "stdout"
        }
      ]
    },
    {
      "cell_type": "markdown",
      "metadata": {
        "id": "GL9aTgvyi_7I"
      },
      "source": [
        "sum() - sum all of element in dimention"
      ]
    },
    {
      "cell_type": "code",
      "metadata": {
        "colab": {
          "base_uri": "https://localhost:8080/"
        },
        "id": "e3iRw56KhM8J",
        "outputId": "bd5a49f6-5736-4795-a2e4-5f0faae50316"
      },
      "source": [
        "print(a2.sum(), np.sum(a1))"
      ],
      "execution_count": 78,
      "outputs": [
        {
          "output_type": "stream",
          "text": [
            "14 20\n"
          ],
          "name": "stdout"
        }
      ]
    },
    {
      "cell_type": "code",
      "metadata": {
        "colab": {
          "base_uri": "https://localhost:8080/"
        },
        "id": "pDlC2RUkiuBn",
        "outputId": "95313e0d-fa2e-4c36-822c-64a79b641f70"
      },
      "source": [
        "print(np.diff(a2))"
      ],
      "execution_count": 79,
      "outputs": [
        {
          "output_type": "stream",
          "text": [
            "[2 1]\n"
          ],
          "name": "stdout"
        }
      ]
    },
    {
      "cell_type": "code",
      "metadata": {
        "colab": {
          "base_uri": "https://localhost:8080/"
        },
        "id": "cGCji3msiuKl",
        "outputId": "68025e05-f8c5-4290-a379-facaac4976fe"
      },
      "source": [
        "print(np.var(a2))\r\n",
        "print(np.min(a1))"
      ],
      "execution_count": 81,
      "outputs": [
        {
          "output_type": "stream",
          "text": [
            "1.5555555555555554\n",
            "1\n"
          ],
          "name": "stdout"
        }
      ]
    },
    {
      "cell_type": "code",
      "metadata": {
        "colab": {
          "base_uri": "https://localhost:8080/"
        },
        "id": "AuVqwiOMiuSD",
        "outputId": "b76ec03b-7f78-4ba2-923a-a5ebcd4f818a"
      },
      "source": [
        "print(np.any(a2>5))\r\n",
        "print(np.any(a2 >5,axis=0))"
      ],
      "execution_count": 87,
      "outputs": [
        {
          "output_type": "stream",
          "text": [
            "True\n",
            "True\n"
          ],
          "name": "stdout"
        }
      ]
    },
    {
      "cell_type": "code",
      "metadata": {
        "colab": {
          "base_uri": "https://localhost:8080/"
        },
        "id": "tFxEoYMqiuZd",
        "outputId": "530c5ebd-8ac5-4f48-cdc4-13c98b10de5e"
      },
      "source": [
        "print((a2>5) & (a2< 8))\r\n",
        "print((a2>5) | (a2< 8))"
      ],
      "execution_count": 89,
      "outputs": [
        {
          "output_type": "stream",
          "text": [
            "[False False  True]\n",
            "[ True  True  True]\n"
          ],
          "name": "stdout"
        }
      ]
    },
    {
      "cell_type": "markdown",
      "metadata": {
        "id": "LFnD5-FzkKqD"
      },
      "source": [
        "save and load"
      ]
    },
    {
      "cell_type": "code",
      "metadata": {
        "id": "r84tvvkyj_r_"
      },
      "source": [
        "np.save(\"a\",a2)"
      ],
      "execution_count": 90,
      "outputs": []
    },
    {
      "cell_type": "code",
      "metadata": {
        "colab": {
          "base_uri": "https://localhost:8080/"
        },
        "id": "ZuCy2g-Aj_1d",
        "outputId": "4da71062-76c8-4d4f-9414-82c71cdce95f"
      },
      "source": [
        "!ls"
      ],
      "execution_count": 91,
      "outputs": [
        {
          "output_type": "stream",
          "text": [
            "a.npy  sample_data\n"
          ],
          "name": "stdout"
        }
      ]
    },
    {
      "cell_type": "code",
      "metadata": {
        "id": "wlhPzOPlkQfW"
      },
      "source": [
        "np.savez(\"ab\",a2,b2)"
      ],
      "execution_count": 92,
      "outputs": []
    },
    {
      "cell_type": "code",
      "metadata": {
        "colab": {
          "base_uri": "https://localhost:8080/"
        },
        "id": "5teJ4xfakQpS",
        "outputId": "a5533f09-22df-4144-9d3c-9ab03cdaa847"
      },
      "source": [
        "!ls"
      ],
      "execution_count": 93,
      "outputs": [
        {
          "output_type": "stream",
          "text": [
            "ab.npz\ta.npy  sample_data\n"
          ],
          "name": "stdout"
        }
      ]
    },
    {
      "cell_type": "code",
      "metadata": {
        "colab": {
          "base_uri": "https://localhost:8080/"
        },
        "id": "mBOkuJNXkQz9",
        "outputId": "1531da1e-f948-4037-bb9f-8a204114600d"
      },
      "source": [
        "npy=np.load(\"a.npy\")\r\n",
        "print(npy)"
      ],
      "execution_count": 94,
      "outputs": [
        {
          "output_type": "stream",
          "text": [
            "[3 5 6]\n"
          ],
          "name": "stdout"
        }
      ]
    },
    {
      "cell_type": "code",
      "metadata": {
        "id": "33IbiKXakmZB"
      },
      "source": [
        "np.savetxt(\"a.csv\",a2, delimiter=',')"
      ],
      "execution_count": 98,
      "outputs": []
    },
    {
      "cell_type": "code",
      "metadata": {
        "colab": {
          "base_uri": "https://localhost:8080/"
        },
        "id": "_mPQ7cIAkmkS",
        "outputId": "11810199-d127-4887-9a13-9e6e63a8b8e7"
      },
      "source": [
        "!cat a.csv"
      ],
      "execution_count": 99,
      "outputs": [
        {
          "output_type": "stream",
          "text": [
            "3.000000000000000000e+00\n",
            "5.000000000000000000e+00\n",
            "6.000000000000000000e+00\n"
          ],
          "name": "stdout"
        }
      ]
    },
    {
      "cell_type": "code",
      "metadata": {
        "colab": {
          "base_uri": "https://localhost:8080/"
        },
        "id": "MdsOlNtrk-Pk",
        "outputId": "eba51fed-a0e0-4fcc-e65c-b091c20c527f"
      },
      "source": [
        "csv=np.loadtxt(\"a.csv\", delimiter=',')\r\n",
        "print(csv)"
      ],
      "execution_count": 100,
      "outputs": [
        {
          "output_type": "stream",
          "text": [
            "[3. 5. 6.]\n"
          ],
          "name": "stdout"
        }
      ]
    }
  ]
}