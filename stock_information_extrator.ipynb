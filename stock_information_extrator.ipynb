{
  "nbformat": 4,
  "nbformat_minor": 0,
  "metadata": {
    "colab": {
      "name": "stock information extrator.ipynb",
      "provenance": [],
      "collapsed_sections": [],
      "authorship_tag": "ABX9TyNcEgLLXwo1rtZZ27BAQpgs",
      "include_colab_link": true
    },
    "kernelspec": {
      "name": "python3",
      "display_name": "Python 3"
    },
    "language_info": {
      "name": "python"
    }
  },
  "cells": [
    {
      "cell_type": "markdown",
      "metadata": {
        "id": "view-in-github",
        "colab_type": "text"
      },
      "source": [
        "<a href=\"https://colab.research.google.com/github/jaewoong-87/python/blob/master/stock_information_extrator.ipynb\" target=\"_parent\"><img src=\"https://colab.research.google.com/assets/colab-badge.svg\" alt=\"Open In Colab\"/></a>"
      ]
    },
    {
      "cell_type": "code",
      "metadata": {
        "id": "bDBwcrtjBv0e"
      },
      "source": [
        "import csv\n",
        "import requests\n",
        "from bs4 import BeautifulSoup"
      ],
      "execution_count": 2,
      "outputs": []
    },
    {
      "cell_type": "code",
      "metadata": {
        "id": "H8w_cr0aG-gm"
      },
      "source": [
        "url = \"https://finance.naver.com/sise/sise_market_sum.nhn?&page=\""
      ],
      "execution_count": 3,
      "outputs": []
    },
    {
      "cell_type": "code",
      "metadata": {
        "colab": {
          "base_uri": "https://localhost:8080/"
        },
        "id": "PmMmKfiRI8Rj",
        "outputId": "5ea1d164-8b63-4d44-a467-779cba3adf45"
      },
      "source": [
        "filename = \"시가총액1-200.csv\"\n",
        "f = open(filename, \"w\", encoding=\"utf-8-sig\", newline=\"\")\n",
        "writer = csv.writer(f)\n",
        "\n",
        "title = \"N\t종목명\t현재가\t전일비\t등락률\t액면가\t시가총액\t상장주식수\t외국인비율\t거래량\tPER\tROE\".split(\"\\t\")\n",
        "print(type(title))\n",
        "writer.writerow(title)\n",
        "\n",
        "for page in range(1,5):\n",
        "  res = requests.get(url+str(page))\n",
        "  res.raise_for_status()\n",
        "  soup = BeautifulSoup(res.text, \"lxml\")\n",
        "\n",
        "  data_rows = soup.find(\"table\", attrs={\"class\":\"type_2\"}).find(\"tbody\").find_all(\"tr\")\n",
        "  for row in data_rows:\n",
        "    columns = row.find_all(\"td\")\n",
        "    if len(columns) <= 1:\n",
        "      continue\n",
        "    data = [column.get_text().strip() for column in columns]\n",
        "    writer.writerow(data)\n"
      ],
      "execution_count": 17,
      "outputs": [
        {
          "output_type": "stream",
          "text": [
            "<class 'list'>\n"
          ],
          "name": "stdout"
        }
      ]
    }
  ]
}