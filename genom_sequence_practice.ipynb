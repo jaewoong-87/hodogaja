{
  "nbformat": 4,
  "nbformat_minor": 0,
  "metadata": {
    "colab": {
      "name": "genom sequence practice.ipynb",
      "provenance": [],
      "authorship_tag": "ABX9TyOn/OA/9ZPa9uP8/bIidB0D",
      "include_colab_link": true
    },
    "kernelspec": {
      "name": "python3",
      "display_name": "Python 3"
    }
  },
  "cells": [
    {
      "cell_type": "markdown",
      "metadata": {
        "id": "view-in-github",
        "colab_type": "text"
      },
      "source": [
        "<a href=\"https://colab.research.google.com/github/jaewoong-87/python/blob/master/genom_sequence_practice.ipynb\" target=\"_parent\"><img src=\"https://colab.research.google.com/assets/colab-badge.svg\" alt=\"Open In Colab\"/></a>"
      ]
    },
    {
      "cell_type": "code",
      "metadata": {
        "id": "YtQ0wTytU15P"
      },
      "source": [
        "def naive(p, t):\r\n",
        "    occurrences = []\r\n",
        "    for i in range(len(t) - len(p) + 1):  # loop over alignments\r\n",
        "        match = True\r\n",
        "        for j in range(len(p)):  # loop over characters\r\n",
        "            if t[i+j] != p[j]:  # compare characters\r\n",
        "                match = False\r\n",
        "                break\r\n",
        "        if match:\r\n",
        "            occurrences.append(i)  # all chars matched; record\r\n",
        "    return occurrences"
      ],
      "execution_count": null,
      "outputs": []
    },
    {
      "cell_type": "code",
      "metadata": {
        "id": "Vgfa0QWuU20t"
      },
      "source": [
        "def reverseComplement(s):\r\n",
        "    complement = {'A': 'T', 'C': 'G', 'G': 'C', 'T': 'A', 'N': 'N'}\r\n",
        "    t = ''\r\n",
        "    for base in s:\r\n",
        "        t = complement[base] + t\r\n",
        "    return t"
      ],
      "execution_count": null,
      "outputs": []
    },
    {
      "cell_type": "code",
      "metadata": {
        "id": "nm7jX59xbzJ-"
      },
      "source": [
        "def readGenome(filename):\r\n",
        "    genome = ''\r\n",
        "    with open(filename, 'r') as f:\r\n",
        "        for line in f:\r\n",
        "            # ignore header line with genome information\r\n",
        "            if not line[0] == '>':\r\n",
        "                genome += line.rstrip()\r\n",
        "    return genome\r\n"
      ],
      "execution_count": null,
      "outputs": []
    },
    {
      "cell_type": "code",
      "metadata": {
        "id": "ynycLRO4bzWl"
      },
      "source": [
        "def readFastq(filename):\r\n",
        "    sequences = []\r\n",
        "    qualities = []\r\n",
        "    with open(filename) as fh:\r\n",
        "        while True:\r\n",
        "            fh.readline()  # skip name line\r\n",
        "            seq = fh.readline().rstrip()  # read base sequence\r\n",
        "            fh.readline()  # skip placeholder line\r\n",
        "            qual = fh.readline().rstrip() # base quality line\r\n",
        "            if len(seq) == 0:\r\n",
        "                break\r\n",
        "            sequences.append(seq)\r\n",
        "            qualities.append(qual)\r\n",
        "    return sequences, qualities"
      ],
      "execution_count": null,
      "outputs": []
    },
    {
      "cell_type": "code",
      "metadata": {
        "colab": {
          "base_uri": "https://localhost:8080/"
        },
        "id": "fmLIp7v5b464",
        "outputId": "48c5463b-dcbc-44d5-f562-647c86446f3e"
      },
      "source": [
        "!wget https://d28rh4a8wq0iu5.cloudfront.net/ads1/data/lambda_virus.fa"
      ],
      "execution_count": null,
      "outputs": [
        {
          "output_type": "stream",
          "text": [
            "--2021-02-03 10:30:58--  https://d28rh4a8wq0iu5.cloudfront.net/ads1/data/lambda_virus.fa\n",
            "Resolving d28rh4a8wq0iu5.cloudfront.net (d28rh4a8wq0iu5.cloudfront.net)... 65.9.76.196, 65.9.76.38, 65.9.76.64, ...\n",
            "Connecting to d28rh4a8wq0iu5.cloudfront.net (d28rh4a8wq0iu5.cloudfront.net)|65.9.76.196|:443... connected.\n",
            "HTTP request sent, awaiting response... 200 OK\n",
            "Length: 49270 (48K) [application/octet-stream]\n",
            "Saving to: ‘lambda_virus.fa’\n",
            "\n",
            "lambda_virus.fa     100%[===================>]  48.12K  --.-KB/s    in 0.1s    \n",
            "\n",
            "2021-02-03 10:30:58 (325 KB/s) - ‘lambda_virus.fa’ saved [49270/49270]\n",
            "\n"
          ],
          "name": "stdout"
        }
      ]
    },
    {
      "cell_type": "code",
      "metadata": {
        "id": "pXz9PbkUcuR1"
      },
      "source": [
        "phix_genome=readGenome('lambda_virus.fa')"
      ],
      "execution_count": null,
      "outputs": []
    },
    {
      "cell_type": "code",
      "metadata": {
        "id": "29q1pt5pc33_"
      },
      "source": [
        "occurrences = naive('ACTTAGT', phix_genome)"
      ],
      "execution_count": null,
      "outputs": []
    },
    {
      "cell_type": "code",
      "metadata": {
        "colab": {
          "base_uri": "https://localhost:8080/"
        },
        "id": "dWkPMk0Fc4JH",
        "outputId": "f0cd389e-36e9-4da0-d3cd-f13cad5bd877"
      },
      "source": [
        "print('offset of leftmost occurrence: %d' % min(occurrences))\r\n",
        "print('# occurrences: %d' % len(occurrences))"
      ],
      "execution_count": null,
      "outputs": [
        {
          "output_type": "stream",
          "text": [
            "offset of leftmost occurrence: 26028\n",
            "# occurrences: 1\n"
          ],
          "name": "stdout"
        }
      ]
    },
    {
      "cell_type": "code",
      "metadata": {
        "colab": {
          "base_uri": "https://localhost:8080/"
        },
        "id": "BnfNlXEJc4Oe",
        "outputId": "ca51583c-5c62-4b40-e537-1548eec0b57c"
      },
      "source": [
        ""
      ],
      "execution_count": null,
      "outputs": [
        {
          "output_type": "stream",
          "text": [
            "# occurrences: 150\n"
          ],
          "name": "stdout"
        }
      ]
    },
    {
      "cell_type": "code",
      "metadata": {
        "id": "23d1SOJWc4Re"
      },
      "source": [
        "def naive_2mm(p, t):\r\n",
        "    occurrences = []\r\n",
        "    for i in range(len(t) - len(p) + 1):  # loop over alignments\r\n",
        "        mismatches = 0\r\n",
        "        match = True\r\n",
        "        for j in range(len(p)):  # loop over characters\r\n",
        "            if t[i+j] != p[j]:  # compare characters\r\n",
        "                if mismatches < 2:\r\n",
        "                    mismatches += 1\r\n",
        "                else:\r\n",
        "                    match = False\r\n",
        "                    break\r\n",
        "        if match:\r\n",
        "            occurrences.append(i)  # all chars matched; record\r\n",
        "    return occurrences"
      ],
      "execution_count": null,
      "outputs": []
    },
    {
      "cell_type": "code",
      "metadata": {
        "id": "umKbZ0x3gtD2"
      },
      "source": [
        "occurrences = naive_2mm('AGGAGGTT', phix_genome)"
      ],
      "execution_count": null,
      "outputs": []
    },
    {
      "cell_type": "code",
      "metadata": {
        "colab": {
          "base_uri": "https://localhost:8080/"
        },
        "id": "4XAs_FAdgtD2",
        "outputId": "54b11677-8b1d-4edf-8faf-5bdde12d2c91"
      },
      "source": [
        "print('offset of leftmost occurrence: %d' % min(occurrences))\r\n",
        "print('# occurrences: %d' % len(occurrences))"
      ],
      "execution_count": null,
      "outputs": [
        {
          "output_type": "stream",
          "text": [
            "offset of leftmost occurrence: 49\n",
            "# occurrences: 215\n"
          ],
          "name": "stdout"
        }
      ]
    },
    {
      "cell_type": "code",
      "metadata": {
        "colab": {
          "base_uri": "https://localhost:8080/"
        },
        "id": "t0TcO67XglGw",
        "outputId": "92ce5ffd-27a6-4aa3-9aa8-c2510eeccfd8"
      },
      "source": [
        "!wget https://d28rh4a8wq0iu5.cloudfront.net/ads1/data/ERR037900_1.first1000.fastq"
      ],
      "execution_count": null,
      "outputs": [
        {
          "output_type": "stream",
          "text": [
            "--2021-02-03 10:56:42--  https://d28rh4a8wq0iu5.cloudfront.net/ads1/data/ERR037900_1.first1000.fastq\n",
            "Resolving d28rh4a8wq0iu5.cloudfront.net (d28rh4a8wq0iu5.cloudfront.net)... 65.9.76.38, 65.9.76.123, 65.9.76.64, ...\n",
            "Connecting to d28rh4a8wq0iu5.cloudfront.net (d28rh4a8wq0iu5.cloudfront.net)|65.9.76.38|:443... connected.\n",
            "HTTP request sent, awaiting response... 200 OK\n",
            "Length: 241626 (236K) [application/octet-stream]\n",
            "Saving to: ‘ERR037900_1.first1000.fastq’\n",
            "\n",
            "ERR037900_1.first10 100%[===================>] 235.96K  1.01MB/s    in 0.2s    \n",
            "\n",
            "2021-02-03 10:56:42 (1.01 MB/s) - ‘ERR037900_1.first1000.fastq’ saved [241626/241626]\n",
            "\n"
          ],
          "name": "stdout"
        }
      ]
    },
    {
      "cell_type": "code",
      "metadata": {
        "id": "vDYV6I8litGB"
      },
      "source": [
        "seqs, quals = readFastq('ERR037900_1.first1000.fastq')"
      ],
      "execution_count": null,
      "outputs": []
    },
    {
      "cell_type": "code",
      "metadata": {
        "colab": {
          "base_uri": "https://localhost:8080/"
        },
        "id": "5JwgIEwojJxo",
        "outputId": "bade1745-1463-4cc3-df5e-93ce5cfabbfa"
      },
      "source": [
        "def phred33ToQ(qual):\r\n",
        "    return ord(qual) - 33\r\n",
        "\r\n",
        "\r\n",
        "    \r\n",
        "\r\n",
        "\r\n",
        "def createHist(qualities):\r\n",
        "    # Create a histogram of quality scores\r\n",
        "    hist = [0]*50 # set the highest quality score as the maximum, so the position of his[x] x indicates the quality score\r\n",
        "    for qual in qualities:\r\n",
        "        for phred in qual:\r\n",
        "            q = phred33ToQ(phred)\r\n",
        "            hist[q] += 1\r\n",
        "    return hist\r\n",
        "h = createHist(quals)\r\n",
        "print(h)\r\n",
        "\r\n",
        "# h contains the frequency of each quality score"
      ],
      "execution_count": null,
      "outputs": [
        {
          "output_type": "stream",
          "text": [
            "[0, 0, 17723, 0, 2, 11, 11, 28, 23, 55, 100, 111, 86, 174, 185, 272, 317, 259, 390, 1523, 2782, 762, 286, 413, 403, 538, 351, 694, 971, 777, 1024, 1449, 1341, 1312, 1916, 2233, 3025, 4043, 6640, 45696, 2074, 0, 0, 0, 0, 0, 0, 0, 0, 0]\n"
          ],
          "name": "stdout"
        }
      ]
    },
    {
      "cell_type": "code",
      "metadata": {
        "colab": {
          "base_uri": "https://localhost:8080/",
          "height": 265
        },
        "id": "o3b4rcd1jtOg",
        "outputId": "172e5283-1fc7-4f22-9817-4ea76d1f66b3"
      },
      "source": [
        "# Plot the histogram\r\n",
        "%matplotlib inline\r\n",
        "import matplotlib.pyplot as plt\r\n",
        "plt.plot(range(len(h)), h)\r\n",
        "plt.show()"
      ],
      "execution_count": null,
      "outputs": [
        {
          "output_type": "display_data",
          "data": {
            "image/png": "[encoded data removed]",
            "text/plain": [
              "<Figure size 432x288 with 1 Axes>"
            ]
          },
          "metadata": {
            "tags": [],
            "needs_background": "light"
          }
        }
      ]
    },
    {
      "cell_type": "code",
      "metadata": {
        "id": "4Z0bnm5Wly9C"
      },
      "source": [
        "def boyer_moore(p, p_bm, t):\r\n",
        "    \"\"\" Do Boyer-Moore matching. p=pattern, t=text,\r\n",
        "        p_bm=BoyerMoore object for p \"\"\"\r\n",
        "    i = 0\r\n",
        "    occurrences = []\r\n",
        "    while i < len(t) - len(p) + 1:\r\n",
        "        shift = 1\r\n",
        "        mismatched = False\r\n",
        "        for j in range(len(p)-1, -1, -1):\r\n",
        "            if p[j] != t[i+j]:\r\n",
        "                skip_bc = p_bm.bad_character_rule(j, t[i+j])\r\n",
        "                skip_gs = p_bm.good_suffix_rule(j)\r\n",
        "                shift = max(shift, skip_bc, skip_gs)\r\n",
        "                mismatched = True\r\n",
        "                break\r\n",
        "        if not mismatched:\r\n",
        "            occurrences.append(i)\r\n",
        "            skip_gs = p_bm.match_skip()\r\n",
        "            shift = max(shift, skip_gs)\r\n",
        "        i += shift\r\n",
        "    return occurrences\r\n"
      ],
      "execution_count": null,
      "outputs": []
    },
    {
      "cell_type": "code",
      "metadata": {
        "id": "ysWVrDeOmWbk"
      },
      "source": [
        "p = 'word'\r\n",
        "t = 'there would have been a time for such a word'\r\n",
        "lowercase_alphabet = 'abcdefghijklmnopqrstuvwxyz '\r\n",
        "p_bm = BoyerMoore(p, lowercase_alphabet)\r\n",
        "occurrences, num_alignments, num_character_comparisons = boyer_moore_with_counts(p, p_bm, t)\r\n",
        "assert(occurrences, num_alignments, num_character_comparisons) == ([40], 12, 15)\r\n",
        "\r\n",
        "p = 'needle'\r\n",
        "t = 'needle need noodle needle'\r\n",
        "p_bm = BoyerMoore(p, lowercase_alphabet)\r\n",
        "occurrences, num_alignments, num_character_comparisons = boyer_moore_with_counts(p, p_bm, t)\r\n",
        "assert(occurrences, num_alignments, num_character_comparisons) == ([0, 19], 5, 18)"
      ],
      "execution_count": null,
      "outputs": []
    },
    {
      "cell_type": "code",
      "metadata": {
        "colab": {
          "base_uri": "https://localhost:8080/"
        },
        "id": "304cPFdUmXdK",
        "outputId": "168828a4-cd83-43c4-e934-6d74ff3e1873"
      },
      "source": [
        "!wget http://d28rh4a8wq0iu5.cloudfront.net/ads1/data/chr1.GRCh38.excerpt.fasta"
      ],
      "execution_count": null,
      "outputs": [
        {
          "output_type": "stream",
          "text": [
            "--2021-02-03 11:14:51--  http://d28rh4a8wq0iu5.cloudfront.net/ads1/data/chr1.GRCh38.excerpt.fasta\n",
            "Resolving d28rh4a8wq0iu5.cloudfront.net (d28rh4a8wq0iu5.cloudfront.net)... 13.35.253.152, 13.35.253.174, 13.35.253.86, ...\n",
            "Connecting to d28rh4a8wq0iu5.cloudfront.net (d28rh4a8wq0iu5.cloudfront.net)|13.35.253.152|:80... connected.\n",
            "HTTP request sent, awaiting response... 200 OK\n",
            "Length: 810105 (791K) [application/octet-stream]\n",
            "Saving to: ‘chr1.GRCh38.excerpt.fasta’\n",
            "\n",
            "chr1.GRCh38.excerpt 100%[===================>] 791.12K  1.72MB/s    in 0.4s    \n",
            "\n",
            "2021-02-03 11:14:52 (1.72 MB/s) - ‘chr1.GRCh38.excerpt.fasta’ saved [810105/810105]\n",
            "\n"
          ],
          "name": "stdout"
        }
      ]
    },
    {
      "cell_type": "code",
      "metadata": {
        "id": "gB5sLZ7bmlFA"
      },
      "source": [
        "seqs, quals = readFastq('chr1.GRCh38.excerpt.fasta')"
      ],
      "execution_count": null,
      "outputs": []
    },
    {
      "cell_type": "code",
      "metadata": {
        "id": "RnIV1X-Um0-5"
      },
      "source": [
        "def editDistance(x, y):\r\n",
        "    # Create distance matrix\r\n",
        "    D = []\r\n",
        "    for i in range(len(x)+1):\r\n",
        "        D.append([0]*(len(y)+1))\r\n",
        "    # Initialize first row and column of matrix\r\n",
        "    for i in range(len(x)+1):\r\n",
        "        D[i][0] = i\r\n",
        "    for i in range(len(y)+1):\r\n",
        "        D[0][i] = i\r\n",
        "    # Fill in the rest of the matrix\r\n",
        "    for i in range(1, len(x)+1):\r\n",
        "        for j in range(1, len(y)+1):\r\n",
        "            distHor = D[i][j-1] + 1\r\n",
        "            distVer = D[i-1][j] + 1\r\n",
        "            if x[i-1] == y[j-1]:\r\n",
        "                distDiag = D[i-1][j-1]\r\n",
        "            else:\r\n",
        "                distDiag = D[i-1][j-1] + 1\r\n",
        "            D[i][j] = min(distHor, distVer, distDiag)\r\n",
        "    # Edit distance is the value in the bottom right corner of the matrix\r\n",
        "    return D[-1][-1]"
      ],
      "execution_count": null,
      "outputs": []
    },
    {
      "cell_type": "code",
      "metadata": {
        "id": "z9yK3kv_p32m"
      },
      "source": [
        "def readGenome(filename):\r\n",
        "    genome = ''\r\n",
        "    with open(filename, 'r') as f:\r\n",
        "        for line in f:\r\n",
        "            # ignore header line with genome information\r\n",
        "            if not line[0] == '>':\r\n",
        "                genome += line.rstrip()\r\n",
        "    return genome"
      ],
      "execution_count": null,
      "outputs": []
    },
    {
      "cell_type": "code",
      "metadata": {
        "colab": {
          "base_uri": "https://localhost:8080/"
        },
        "id": "oMg2m-ETp6Pa",
        "outputId": "5a8ee68a-e3d3-44dc-80b4-63b81966ef38"
      },
      "source": [
        "genome_filename = 'chr1.GRCh38.excerpt.fasta'\r\n",
        "\r\n",
        "t = readGenome(genome_filename)\r\n",
        "\r\n",
        "# Question1\r\n",
        "p = 'GCTGATCGATCGTACG'\r\n",
        "print(editDistance(t, p))"
      ],
      "execution_count": null,
      "outputs": [
        {
          "output_type": "stream",
          "text": [
            "799984\n"
          ],
          "name": "stdout"
        }
      ]
    },
    {
      "cell_type": "code",
      "metadata": {
        "colab": {
          "base_uri": "https://localhost:8080/"
        },
        "id": "7akJge42p6t1",
        "outputId": "c23821da-15ad-40c7-c1ea-e255051c6a56"
      },
      "source": [
        "p = 'GATTTACCAGATTGAG'\r\n",
        "print(editDistance(t, p))"
      ],
      "execution_count": null,
      "outputs": [
        {
          "output_type": "stream",
          "text": [
            "799984\n"
          ],
          "name": "stdout"
        }
      ]
    },
    {
      "cell_type": "code",
      "metadata": {
        "colab": {
          "base_uri": "https://localhost:8080/"
        },
        "id": "Yp-q02kpsGGy",
        "outputId": "e3f0abc8-e06b-445f-ee5a-9a8208a635ce"
      },
      "source": [
        "799984/2"
      ],
      "execution_count": null,
      "outputs": [
        {
          "output_type": "execute_result",
          "data": {
            "text/plain": [
              "399992.0"
            ]
          },
          "metadata": {
            "tags": []
          },
          "execution_count": 65
        }
      ]
    }
  ]
}