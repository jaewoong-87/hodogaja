{
  "nbformat": 4,
  "nbformat_minor": 0,
  "metadata": {
    "colab": {
      "name": "specific subject extraction.ipynb",
      "provenance": [],
      "collapsed_sections": [],
      "authorship_tag": "ABX9TyPWXfZix6pGrSQ4/+MFCzU/",
      "include_colab_link": true
    },
    "kernelspec": {
      "name": "python3",
      "display_name": "Python 3"
    },
    "language_info": {
      "name": "python"
    }
  },
  "cells": [
    {
      "cell_type": "markdown",
      "metadata": {
        "id": "view-in-github",
        "colab_type": "text"
      },
      "source": [
        "<a href=\"https://colab.research.google.com/github/jaewoong-87/python/blob/master/specific_subject_extraction.ipynb\" target=\"_parent\"><img src=\"https://colab.research.google.com/assets/colab-badge.svg\" alt=\"Open In Colab\"/></a>"
      ]
    },
    {
      "cell_type": "code",
      "metadata": {
        "id": "bDBwcrtjBv0e"
      },
      "source": [
        "import csv\n",
        "import requests\n",
        "from bs4 import BeautifulSoup"
      ],
      "execution_count": 1,
      "outputs": []
    },
    {
      "cell_type": "code",
      "metadata": {
        "id": "6hib7XHfPGlm"
      },
      "source": [
        "headers ={\"User-Agent\":\"Mozilla/5.0 (Windows NT 10.0; Win64; x64) AppleWebKit/537.36 (KHTML, like Gecko) Chrome/90.0.4430.212 Safari/537.36\"}"
      ],
      "execution_count": 2,
      "outputs": []
    },
    {
      "cell_type": "code",
      "metadata": {
        "id": "H8w_cr0aG-gm"
      },
      "source": [
        "url = \"https://finance.naver.com/item/sise_day.nhn?code=005930&page=\""
      ],
      "execution_count": 71,
      "outputs": []
    },
    {
      "cell_type": "code",
      "metadata": {
        "colab": {
          "base_uri": "https://localhost:8080/"
        },
        "id": "PmMmKfiRI8Rj",
        "outputId": "4df147e2-818f-45e5-a52f-6144a4cf67c2"
      },
      "source": [
        "filename = \"삼전일별시세.csv\"\n",
        "f = open(filename, \"w\", encoding=\"utf-8-sig\", newline=\"\")\n",
        "writer = csv.writer(f)\n",
        "title = \"날짜\t종가\t전일비\t시가\t고가\t저가\t거래량\".split(\"\\t\")\n",
        "print(type(title))\n",
        "writer.writerow(title)\n",
        "idx=626\n",
        "for page in range(1,idx+1):\n",
        "  res = requests.get(url+str(page), headers = headers)\n",
        "  res.raise_for_status()\n",
        "  soup = BeautifulSoup(res.text, \"lxml\")\n",
        "  \n",
        "  data_rows = soup.find(\"table\", attrs={\"class\":\"type2\"}).find_all(\"tr\")\n",
        "  for row in data_rows:\n",
        "    columns = row.find_all(\"span\")\n",
        "    data = [column.get_text().strip() for column in columns]\n",
        "    writer.writerow(data)\n"
      ],
      "execution_count": 122,
      "outputs": [
        {
          "output_type": "stream",
          "text": [
            "<class 'list'>\n"
          ],
          "name": "stdout"
        }
      ]
    }
  ]
}