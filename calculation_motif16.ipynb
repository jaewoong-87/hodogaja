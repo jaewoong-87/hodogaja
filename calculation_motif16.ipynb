{
  "nbformat": 4,
  "nbformat_minor": 0,
  "metadata": {
    "colab": {
      "name": "calculation motif16.ipynb",
      "provenance": [],
      "collapsed_sections": [],
      "authorship_tag": "ABX9TyML3MEgdnpmBThF5NO3R9bE",
      "include_colab_link": true
    },
    "kernelspec": {
      "name": "python3",
      "display_name": "Python 3"
    }
  },
  "cells": [
    {
      "cell_type": "markdown",
      "metadata": {
        "id": "view-in-github",
        "colab_type": "text"
      },
      "source": [
        "<a href=\"https://colab.research.google.com/github/jaewoong-87/python/blob/master/calculation_motif16.ipynb\" target=\"_parent\"><img src=\"https://colab.research.google.com/assets/colab-badge.svg\" alt=\"Open In Colab\"/></a>"
      ]
    },
    {
      "cell_type": "code",
      "metadata": {
        "colab": {
          "base_uri": "https://localhost:8080/",
          "height": 284
        },
        "id": "6TmZW1SH65Ko",
        "outputId": "9e2ad825-62b0-4b88-9067-d62747727dca"
      },
      "source": [
        "\"\"\"\r\n",
        "Created on Sun Feb 21 13:11:40 2021\r\n",
        "\r\n",
        "@author: jaewoong woo\r\n",
        "\"\"\"\r\n",
        "\r\n",
        "import numpy as np\r\n",
        "import matplotlib.pyplot as plt\r\n",
        "from scipy.integrate import odeint\r\n",
        "import random\r\n",
        "\r\n",
        "\r\n",
        " #constant\r\n",
        "\r\n",
        "\r\n",
        "#equation\r\n",
        "def motif16(x,t):\r\n",
        "    \r\n",
        "    A =x[0]\r\n",
        "    E =x[1]\r\n",
        "    \r\n",
        "    dA_dt=k1+k2*k7/(k7+E)-k3*A\r\n",
        "    dE_dt=k6+k4*k8/(k8+A)-k5*E\r\n",
        "    \r\n",
        "    return [dA_dt, dE_dt]\r\n",
        "\r\n",
        "#assign parameter(constant rate)\r\n",
        "num=[0,1,5,10,100]\r\n",
        "k1=random.choice(num)\r\n",
        "k2=random.choice(num)\r\n",
        "k3=random.choice(num)\r\n",
        "k4=random.choice(num)\r\n",
        "k5=random.choice(num)\r\n",
        "k6=random.choice(num)\r\n",
        "k7=random.choice(num)\r\n",
        "k8=random.choice(num)\r\n",
        "\r\n",
        "x0=[0.1,0.1]\r\n",
        "t= np.linspace(0,1000,10000)\r\n",
        "x= odeint(motif16,x0,t)\r\n",
        "\r\n",
        "A = x[:,0]\r\n",
        "E = x[:,1]\r\n",
        "print('k1:{},k2:{},k3:{},k4:{},k5:{},k6:{},k7:{},k8:{}'.format(k1,k2,k3,k4,k5,k6,k7,k8))\r\n",
        "#log scale.\r\n",
        "plt.semilogy(t,A)\r\n",
        "plt.semilogy(t,E)\r\n",
        "plt.grid()\r\n",
        "plt.show()\r\n"
      ],
      "execution_count": 1,
      "outputs": [
        {
          "output_type": "stream",
          "text": [
            "k1:5,k2:10,k3:0,k4:100,k5:100,k6:0,k7:5,k8:1\n"
          ],
          "name": "stdout"
        },
        {
          "output_type": "display_data",
          "data": {
            "image/png": "[encoded data removed]",
            "text/plain": [
              "<Figure size 432x288 with 1 Axes>"
            ]
          },
          "metadata": {
            "tags": [],
            "needs_background": "light"
          }
        }
      ]
    }
  ]
}