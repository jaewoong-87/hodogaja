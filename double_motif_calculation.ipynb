{
  "nbformat": 4,
  "nbformat_minor": 0,
  "metadata": {
    "colab": {
      "name": "double motif calculation.ipynb",
      "provenance": [],
      "collapsed_sections": [],
      "authorship_tag": "ABX9TyOWa8QW3qKz2d9YnlzQCFxJ",
      "include_colab_link": true
    },
    "kernelspec": {
      "name": "python3",
      "display_name": "Python 3"
    }
  },
  "cells": [
    {
      "cell_type": "markdown",
      "metadata": {
        "id": "view-in-github",
        "colab_type": "text"
      },
      "source": [
        "<a href=\"https://colab.research.google.com/github/jaewoong-87/python/blob/master/double_motif_calculation.ipynb\" target=\"_parent\"><img src=\"https://colab.research.google.com/assets/colab-badge.svg\" alt=\"Open In Colab\"/></a>"
      ]
    },
    {
      "cell_type": "code",
      "metadata": {
        "colab": {
          "base_uri": "https://localhost:8080/",
          "height": 301
        },
        "id": "aMSGO7LnsUIN",
        "outputId": "b6588683-a460-477a-853a-6c5b8f966c64"
      },
      "source": [
        "import numpy as np\r\n",
        "import matplotlib.pyplot as plt\r\n",
        "from scipy.integrate import odeint\r\n",
        "import random\r\n",
        "\r\n",
        "\r\n",
        "#motif equation\r\n",
        "def twomotif9(x,t):\r\n",
        "    \r\n",
        "    A =x[0]\r\n",
        "    E1 =x[1]\r\n",
        "    E2 =x[2]\r\n",
        "    \r\n",
        "    dA_dt=k4*(k10/(k10+E1))*(k12/(k12+E2))+k6-k5*A\r\n",
        "    dE1_dt=k1+k2-k3*E1*A/(k11+A)\r\n",
        "    dE2_dt=k7+k8-k9*E2*(k13/(k13+A)) \r\n",
        "    \r\n",
        "    return [dA_dt, dE1_dt, dE2_dt]\r\n",
        "\r\n",
        "def twomotif10(x,t):\r\n",
        "    \r\n",
        "    A =x[0]\r\n",
        "    E1 =x[1]\r\n",
        "    E2 =x[2]\r\n",
        "    \r\n",
        "    dA_dt=k4+k6-k5*A*(E1/(k11+E1))*(E2/(k12+E2))\r\n",
        "    dE1_dt=k1+k2-k3*E1*(A/(k10+A))\r\n",
        "    dE2_dt=k7+k8-k9*E2*(A/(k13+A))  \r\n",
        "    \r\n",
        "    return [dA_dt, dE1_dt, dE2_dt]\r\n",
        "\r\n",
        "def twomotif11(x,t):\r\n",
        "    \r\n",
        "    A =x[0]\r\n",
        "    E1 =x[1]\r\n",
        "    E2 =x[2]\r\n",
        "    \r\n",
        "    dA_dt=k4*(E1/(k11+E1))*(E2/(k12+E2))+k6-k5*A\r\n",
        "    dE1_dt=k1*(A/(k10+A))+k2-k3*E1 \r\n",
        "    dE2_dt=k7*(A/(k13+A))+k8-k9*E2   \r\n",
        "    \r\n",
        "    return [dA_dt, dE1_dt, dE2_dt]\r\n",
        "\r\n",
        "def twomotif13(x,t):\r\n",
        "    \r\n",
        "    A =x[0]\r\n",
        "    E1 =x[1]\r\n",
        "    E2 =x[2]\r\n",
        "    \r\n",
        "    dA_dt=k4+k6-k5*A*(k11/(k11+E1))*(k12/(k12+E2))\r\n",
        "    dE1_dt=k1+k2-k3*E1*(k10/(k10+A)) \r\n",
        "    dE2_dt=k7+k8-k9*E2*(k13/(k13+A))   \r\n",
        "    \r\n",
        "    return [dA_dt, dE1_dt, dE2_dt]\r\n",
        "\r\n",
        "def twomotif15(x,t):\r\n",
        "    \r\n",
        "    A =x[0]\r\n",
        "    E1 =x[1]\r\n",
        "    E2 =x[2]\r\n",
        "    \r\n",
        "    dA_dt=k4*E1/(k11+E1)*(E2/(k12+E2))+k6-k5*A\r\n",
        "    dE1_dt=k1+k2-k3*E1*(k11/(k11+A)) \r\n",
        "    dE2_dt=k7+k8-k9*E2*(k13/(k13+A))   \r\n",
        "    \r\n",
        "    return [dA_dt, dE1_dt, dE2_dt]\r\n",
        "\r\n",
        "def twomotif16(x,t):\r\n",
        "    \r\n",
        "    A =x[0]\r\n",
        "    E1 =x[1]\r\n",
        "    E2 =x[2]\r\n",
        "    \r\n",
        "    dA_dt=k4*(k11/(k11+E1))*(k12/(k12+E2))+k6-k5*A\r\n",
        "    dE1_dt=k1*(k10/(k10+A))+k2-k3*E1\r\n",
        "    dE2_dt=k7*(k13/(k13+A))+k8-k9*E2    \r\n",
        "    \r\n",
        "    return [dA_dt, dE1_dt, dE2_dt]\r\n",
        "\r\n",
        "\r\n",
        "#assign parameter(constant rate)\r\n",
        "num=[0,1,5,10,100]\r\n",
        "k1=random.choice(num)\r\n",
        "k2=random.choice(num)\r\n",
        "k3=random.choice(num)\r\n",
        "k4=random.choice(num)\r\n",
        "k5=random.choice(num)\r\n",
        "k6=random.choice(num)\r\n",
        "k7=random.choice(num)\r\n",
        "k8=random.choice(num)\r\n",
        "k9=random.choice(num)\r\n",
        "k10=random.choice(num)\r\n",
        "k11=random.choice(num)\r\n",
        "k12=random.choice(num)\r\n",
        "k13=random.choice(num)\r\n",
        "\r\n",
        "#initial concentratino of A, E1, E2\r\n",
        "x0=[0.1,0.1,0.1]\r\n",
        "#time\r\n",
        "\r\n",
        "t= np.linspace(0,1000,100)\r\n",
        "x= odeint(twomotif9,x0,t)  #type in motif which you want to use.\r\n",
        "\r\n",
        "A = x[:,0]\r\n",
        "E1 = x[:,1]\r\n",
        "E2 = x[:,2]\r\n",
        "print('k1:{},k2:{},k3:{},k4:{},k5:{},k6:{},k7:{},k8:{}'.format(k1,k2,k3,k4,k5,k6,k7,k8))\r\n",
        "print('k9:{},k10:{},k11:{},k12:{},k13:{}'.format(k9,k10,k11,k12,k13))\r\n",
        "#log scale.\r\n",
        "plt.semilogy(t,A,'ro')\r\n",
        "plt.semilogy(t,E1,'b-')\r\n",
        "plt.semilogy(t,E2,'g^')\r\n",
        "plt.grid()\r\n",
        "plt.show()"
      ],
      "execution_count": 2,
      "outputs": [
        {
          "output_type": "stream",
          "text": [
            "k1:0,k2:5,k3:0,k4:100,k5:0,k6:10,k7:100,k8:1\n",
            "k9:10,k10:5,k11:1,k12:0,k13:10\n"
          ],
          "name": "stdout"
        },
        {
          "output_type": "display_data",
          "data": {
            "image/png": "[encoded data removed]",
            "text/plain": [
              "<Figure size 432x288 with 1 Axes>"
            ]
          },
          "metadata": {
            "tags": [],
            "needs_background": "light"
          }
        }
      ]
    }
  ]
}