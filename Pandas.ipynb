{
  "nbformat": 4,
  "nbformat_minor": 0,
  "metadata": {
    "colab": {
      "name": "Pandas.ipynb",
      "provenance": [],
      "collapsed_sections": [],
      "authorship_tag": "ABX9TyPLzJWawH9M7veXcVCQ6a9U",
      "include_colab_link": true
    },
    "kernelspec": {
      "name": "python3",
      "display_name": "Python 3"
    }
  },
  "cells": [
    {
      "cell_type": "markdown",
      "metadata": {
        "id": "view-in-github",
        "colab_type": "text"
      },
      "source": [
        "<a href=\"https://colab.research.google.com/github/jaewoong-87/python/blob/master/Pandas.ipynb\" target=\"_parent\"><img src=\"https://colab.research.google.com/assets/colab-badge.svg\" alt=\"Open In Colab\"/></a>"
      ]
    },
    {
      "cell_type": "markdown",
      "metadata": {
        "id": "t-Euk25bpQB6"
      },
      "source": [
        "pandas was biuilt based on numpy"
      ]
    },
    {
      "cell_type": "code",
      "metadata": {
        "colab": {
          "base_uri": "https://localhost:8080/",
          "height": 36
        },
        "id": "Yk-xOVe-ng-u",
        "outputId": "1000e105-9963-4a7d-80c7-b0e4c7083727"
      },
      "source": [
        "import numpy as np\r\n",
        "import pandas as pd\r\n",
        "pd.__version__"
      ],
      "execution_count": 1,
      "outputs": [
        {
          "output_type": "execute_result",
          "data": {
            "application/vnd.google.colaboratory.intrinsic+json": {
              "type": "string"
            },
            "text/plain": [
              "'1.1.5'"
            ]
          },
          "metadata": {
            "tags": []
          },
          "execution_count": 1
        }
      ]
    },
    {
      "cell_type": "code",
      "metadata": {
        "colab": {
          "base_uri": "https://localhost:8080/"
        },
        "id": "mwvVDR_opKtl",
        "outputId": "d83b4463-ce8b-47d7-dd75-ea74e7289f6e"
      },
      "source": [
        "s=pd.Series([0, 0.25, 0.5, 0.75, 1.0])\r\n",
        "s"
      ],
      "execution_count": 3,
      "outputs": [
        {
          "output_type": "execute_result",
          "data": {
            "text/plain": [
              "0    0.00\n",
              "1    0.25\n",
              "2    0.50\n",
              "3    0.75\n",
              "4    1.00\n",
              "dtype: float64"
            ]
          },
          "metadata": {
            "tags": []
          },
          "execution_count": 3
        }
      ]
    },
    {
      "cell_type": "code",
      "metadata": {
        "colab": {
          "base_uri": "https://localhost:8080/"
        },
        "id": "r_mchGHxpKw-",
        "outputId": "6829b2d2-18a4-4b0a-a9a0-f6720fa2d2ba"
      },
      "source": [
        "s.values"
      ],
      "execution_count": 4,
      "outputs": [
        {
          "output_type": "execute_result",
          "data": {
            "text/plain": [
              "array([0.  , 0.25, 0.5 , 0.75, 1.  ])"
            ]
          },
          "metadata": {
            "tags": []
          },
          "execution_count": 4
        }
      ]
    },
    {
      "cell_type": "code",
      "metadata": {
        "colab": {
          "base_uri": "https://localhost:8080/"
        },
        "id": "QubZl-GKpc3c",
        "outputId": "aadf667f-b339-4728-c35c-e20182ef3da4"
      },
      "source": [
        "s.index"
      ],
      "execution_count": 5,
      "outputs": [
        {
          "output_type": "execute_result",
          "data": {
            "text/plain": [
              "RangeIndex(start=0, stop=5, step=1)"
            ]
          },
          "metadata": {
            "tags": []
          },
          "execution_count": 5
        }
      ]
    },
    {
      "cell_type": "code",
      "metadata": {
        "colab": {
          "base_uri": "https://localhost:8080/"
        },
        "id": "XMFSXOn4pc9u",
        "outputId": "b2bce7d2-609c-41d5-bd4a-1f0c00cec99a"
      },
      "source": [
        "s[1:4]"
      ],
      "execution_count": 6,
      "outputs": [
        {
          "output_type": "execute_result",
          "data": {
            "text/plain": [
              "1    0.25\n",
              "2    0.50\n",
              "3    0.75\n",
              "dtype: float64"
            ]
          },
          "metadata": {
            "tags": []
          },
          "execution_count": 6
        }
      ]
    },
    {
      "cell_type": "code",
      "metadata": {
        "colab": {
          "base_uri": "https://localhost:8080/"
        },
        "id": "d5ZnHSqwpdA0",
        "outputId": "c5457b61-152e-4650-a4e4-1f883179a586"
      },
      "source": [
        "s=pd.Series([0, 0.25, 0.5, 0.75, 1.0],\r\n",
        "            index=['a','b','c','d','e'])\r\n",
        "s"
      ],
      "execution_count": 8,
      "outputs": [
        {
          "output_type": "execute_result",
          "data": {
            "text/plain": [
              "a    0.00\n",
              "b    0.25\n",
              "c    0.50\n",
              "d    0.75\n",
              "e    1.00\n",
              "dtype: float64"
            ]
          },
          "metadata": {
            "tags": []
          },
          "execution_count": 8
        }
      ]
    },
    {
      "cell_type": "code",
      "metadata": {
        "colab": {
          "base_uri": "https://localhost:8080/"
        },
        "id": "JF-KprbBpdEB",
        "outputId": "a24f2c25-b794-454a-b284-9312eb2e3065"
      },
      "source": [
        "'b' in s"
      ],
      "execution_count": 9,
      "outputs": [
        {
          "output_type": "execute_result",
          "data": {
            "text/plain": [
              "True"
            ]
          },
          "metadata": {
            "tags": []
          },
          "execution_count": 9
        }
      ]
    },
    {
      "cell_type": "code",
      "metadata": {
        "colab": {
          "base_uri": "https://localhost:8080/"
        },
        "id": "ZrR_-gb7pdG2",
        "outputId": "4ce2d390-92cb-4711-cf54-a9ea60e5591a"
      },
      "source": [
        "s.unique()"
      ],
      "execution_count": 10,
      "outputs": [
        {
          "output_type": "execute_result",
          "data": {
            "text/plain": [
              "array([0.  , 0.25, 0.5 , 0.75, 1.  ])"
            ]
          },
          "metadata": {
            "tags": []
          },
          "execution_count": 10
        }
      ]
    },
    {
      "cell_type": "code",
      "metadata": {
        "colab": {
          "base_uri": "https://localhost:8080/"
        },
        "id": "SRcZiM3gpdJd",
        "outputId": "b7d480fa-0736-4252-c2ba-787f05652cfc"
      },
      "source": [
        "s.value_counts()"
      ],
      "execution_count": 11,
      "outputs": [
        {
          "output_type": "execute_result",
          "data": {
            "text/plain": [
              "1.00    1\n",
              "0.75    1\n",
              "0.50    1\n",
              "0.25    1\n",
              "0.00    1\n",
              "dtype: int64"
            ]
          },
          "metadata": {
            "tags": []
          },
          "execution_count": 11
        }
      ]
    },
    {
      "cell_type": "code",
      "metadata": {
        "colab": {
          "base_uri": "https://localhost:8080/"
        },
        "id": "RCKGSRY2pddu",
        "outputId": "6ea6f13c-4114-45bd-932d-30f89948c362"
      },
      "source": [
        "s.isin([0.25, 0.75])"
      ],
      "execution_count": 12,
      "outputs": [
        {
          "output_type": "execute_result",
          "data": {
            "text/plain": [
              "a    False\n",
              "b     True\n",
              "c    False\n",
              "d     True\n",
              "e    False\n",
              "dtype: bool"
            ]
          },
          "metadata": {
            "tags": []
          },
          "execution_count": 12
        }
      ]
    },
    {
      "cell_type": "code",
      "metadata": {
        "colab": {
          "base_uri": "https://localhost:8080/"
        },
        "id": "yNphvSUPpdgd",
        "outputId": "3a4a3c1a-988f-40b8-cb21-7feb61543963"
      },
      "source": [
        "pop_tuple = {'korea':500,\r\n",
        "             'china':5000,\r\n",
        "             'norway':200,\r\n",
        "             'eu':50000}\r\n",
        "\r\n",
        "population = pd.Series(pop_tuple)\r\n",
        "population"
      ],
      "execution_count": 13,
      "outputs": [
        {
          "output_type": "execute_result",
          "data": {
            "text/plain": [
              "korea       500\n",
              "china      5000\n",
              "norway      200\n",
              "eu        50000\n",
              "dtype: int64"
            ]
          },
          "metadata": {
            "tags": []
          },
          "execution_count": 13
        }
      ]
    },
    {
      "cell_type": "markdown",
      "metadata": {
        "id": "6_Z49EyYqt3R"
      },
      "source": [
        "data frame"
      ]
    },
    {
      "cell_type": "code",
      "metadata": {
        "colab": {
          "base_uri": "https://localhost:8080/",
          "height": 110
        },
        "id": "ZDZQ2pNCqtkQ",
        "outputId": "7a998265-21db-4c41-a853-8d44adcb2dc6"
      },
      "source": [
        "pd.DataFrame([{'a':2,'b':4,'c':3},{'a':5,'c':5,'d':7}])\r\n"
      ],
      "execution_count": 14,
      "outputs": [
        {
          "output_type": "execute_result",
          "data": {
            "text/html": [
              "<div>\n",
              "<style scoped>\n",
              "    .dataframe tbody tr th:only-of-type {\n",
              "        vertical-align: middle;\n",
              "    }\n",
              "\n",
              "    .dataframe tbody tr th {\n",
              "        vertical-align: top;\n",
              "    }\n",
              "\n",
              "    .dataframe thead th {\n",
              "        text-align: right;\n",
              "    }\n",
              "</style>\n",
              "<table border=\"1\" class=\"dataframe\">\n",
              "  <thead>\n",
              "    <tr style=\"text-align: right;\">\n",
              "      <th></th>\n",
              "      <th>a</th>\n",
              "      <th>b</th>\n",
              "      <th>c</th>\n",
              "      <th>d</th>\n",
              "    </tr>\n",
              "  </thead>\n",
              "  <tbody>\n",
              "    <tr>\n",
              "      <th>0</th>\n",
              "      <td>2</td>\n",
              "      <td>4.0</td>\n",
              "      <td>3</td>\n",
              "      <td>NaN</td>\n",
              "    </tr>\n",
              "    <tr>\n",
              "      <th>1</th>\n",
              "      <td>5</td>\n",
              "      <td>NaN</td>\n",
              "      <td>5</td>\n",
              "      <td>7.0</td>\n",
              "    </tr>\n",
              "  </tbody>\n",
              "</table>\n",
              "</div>"
            ],
            "text/plain": [
              "   a    b  c    d\n",
              "0  2  4.0  3  NaN\n",
              "1  5  NaN  5  7.0"
            ]
          },
          "metadata": {
            "tags": []
          },
          "execution_count": 14
        }
      ]
    },
    {
      "cell_type": "markdown",
      "metadata": {
        "id": "C9jmEe-srKdH"
      },
      "source": [
        "automatically empty space are filled with NaN"
      ]
    },
    {
      "cell_type": "markdown",
      "metadata": {
        "id": "g_9-vEBtrfuf"
      },
      "source": [
        "INDEX"
      ]
    },
    {
      "cell_type": "code",
      "metadata": {
        "colab": {
          "base_uri": "https://localhost:8080/"
        },
        "id": "YrK7N-gdrfL7",
        "outputId": "2a63d8a9-2a60-4a42-b5fd-82778509504d"
      },
      "source": [
        "idx=pd.Index([2,4,6,8,10])\r\n",
        "idx"
      ],
      "execution_count": 15,
      "outputs": [
        {
          "output_type": "execute_result",
          "data": {
            "text/plain": [
              "Int64Index([2, 4, 6, 8, 10], dtype='int64')"
            ]
          },
          "metadata": {
            "tags": []
          },
          "execution_count": 15
        }
      ]
    },
    {
      "cell_type": "code",
      "metadata": {
        "colab": {
          "base_uri": "https://localhost:8080/"
        },
        "id": "B1fZ3Hjopdju",
        "outputId": "6d92a4f3-2cc2-41d3-c45d-59469c6921dd"
      },
      "source": [
        "idx[1]"
      ],
      "execution_count": 16,
      "outputs": [
        {
          "output_type": "execute_result",
          "data": {
            "text/plain": [
              "4"
            ]
          },
          "metadata": {
            "tags": []
          },
          "execution_count": 16
        }
      ]
    },
    {
      "cell_type": "code",
      "metadata": {
        "colab": {
          "base_uri": "https://localhost:8080/"
        },
        "id": "IAlkSODfpdmg",
        "outputId": "b6bda384-803c-419c-ac4d-7df4e2fc6459"
      },
      "source": [
        "idx[1:2:2]"
      ],
      "execution_count": 17,
      "outputs": [
        {
          "output_type": "execute_result",
          "data": {
            "text/plain": [
              "Int64Index([4], dtype='int64')"
            ]
          },
          "metadata": {
            "tags": []
          },
          "execution_count": 17
        }
      ]
    },
    {
      "cell_type": "code",
      "metadata": {
        "colab": {
          "base_uri": "https://localhost:8080/"
        },
        "id": "DYkfVDNqpdpn",
        "outputId": "b108fdd6-0858-4765-f4d3-a25aaf63ec61"
      },
      "source": [
        "idx[-1::]"
      ],
      "execution_count": 18,
      "outputs": [
        {
          "output_type": "execute_result",
          "data": {
            "text/plain": [
              "Int64Index([10], dtype='int64')"
            ]
          },
          "metadata": {
            "tags": []
          },
          "execution_count": 18
        }
      ]
    },
    {
      "cell_type": "code",
      "metadata": {
        "colab": {
          "base_uri": "https://localhost:8080/"
        },
        "id": "BsahiaOppdrv",
        "outputId": "6017662b-f078-4c4a-f96c-531356d49f21"
      },
      "source": [
        "idx[::2]"
      ],
      "execution_count": 19,
      "outputs": [
        {
          "output_type": "execute_result",
          "data": {
            "text/plain": [
              "Int64Index([2, 6, 10], dtype='int64')"
            ]
          },
          "metadata": {
            "tags": []
          },
          "execution_count": 19
        }
      ]
    },
    {
      "cell_type": "code",
      "metadata": {
        "colab": {
          "base_uri": "https://localhost:8080/"
        },
        "id": "LYSg8C7ZpK1Z",
        "outputId": "a8d3d1c8-4d83-40f0-b92d-83c3b433f320"
      },
      "source": [
        "print(idx)\r\n",
        "print(idx.size)\r\n",
        "print(idx.shape)\r\n",
        "print(idx.ndim)"
      ],
      "execution_count": 20,
      "outputs": [
        {
          "output_type": "stream",
          "text": [
            "Int64Index([2, 4, 6, 8, 10], dtype='int64')\n",
            "5\n",
            "(5,)\n",
            "1\n"
          ],
          "name": "stdout"
        }
      ]
    },
    {
      "cell_type": "code",
      "metadata": {
        "colab": {
          "base_uri": "https://localhost:8080/"
        },
        "id": "3livlL8Nr1-N",
        "outputId": "bc3157d5-5da8-4474-992b-da4db979e454"
      },
      "source": [
        "idx2=pd.Index([2,5,7,9,11])\r\n",
        "print(idx.append(idx2))\r\n",
        "print(idx.difference(idx2))\r\n",
        "print(idx.intersection(idx2))\r\n",
        "print(idx.union(idx2))\r\n",
        "print(idx |idx2)"
      ],
      "execution_count": 25,
      "outputs": [
        {
          "output_type": "stream",
          "text": [
            "Int64Index([2, 4, 6, 8, 10, 2, 5, 7, 9, 11], dtype='int64')\n",
            "Int64Index([4, 6, 8, 10], dtype='int64')\n",
            "Int64Index([2], dtype='int64')\n",
            "Int64Index([2, 4, 5, 6, 7, 8, 9, 10, 11], dtype='int64')\n",
            "Int64Index([2, 4, 5, 6, 7, 8, 9, 10, 11], dtype='int64')\n"
          ],
          "name": "stdout"
        }
      ]
    },
    {
      "cell_type": "code",
      "metadata": {
        "id": "J-9GGdkLr2Ck"
      },
      "source": [
        ""
      ],
      "execution_count": null,
      "outputs": []
    },
    {
      "cell_type": "code",
      "metadata": {
        "id": "iLshOvxjr2GV"
      },
      "source": [
        ""
      ],
      "execution_count": null,
      "outputs": []
    },
    {
      "cell_type": "code",
      "metadata": {
        "id": "0aN8yUvZr2Jm"
      },
      "source": [
        ""
      ],
      "execution_count": null,
      "outputs": []
    },
    {
      "cell_type": "code",
      "metadata": {
        "id": "HodD9m5fr2Mq"
      },
      "source": [
        ""
      ],
      "execution_count": null,
      "outputs": []
    },
    {
      "cell_type": "code",
      "metadata": {
        "id": "MlMCVAwrr2P0"
      },
      "source": [
        ""
      ],
      "execution_count": null,
      "outputs": []
    },
    {
      "cell_type": "code",
      "metadata": {
        "id": "pEQiFZQXr2Sj"
      },
      "source": [
        ""
      ],
      "execution_count": null,
      "outputs": []
    },
    {
      "cell_type": "code",
      "metadata": {
        "id": "1SAKKnpmr2V9"
      },
      "source": [
        ""
      ],
      "execution_count": null,
      "outputs": []
    },
    {
      "cell_type": "code",
      "metadata": {
        "id": "FmaCNzaRr2Z0"
      },
      "source": [
        ""
      ],
      "execution_count": null,
      "outputs": []
    },
    {
      "cell_type": "code",
      "metadata": {
        "id": "8Z_UASSyr2jT"
      },
      "source": [
        ""
      ],
      "execution_count": null,
      "outputs": []
    }
  ]
}